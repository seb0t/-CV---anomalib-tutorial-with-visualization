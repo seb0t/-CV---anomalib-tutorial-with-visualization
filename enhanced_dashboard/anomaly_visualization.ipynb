{
 "cells": [
  {
   "cell_type": "markdown",
   "id": "c4d2a089",
   "metadata": {},
   "source": [
    "# 🔍 Interactive Anomaly Detection Visualization\n",
    "\n",
    "This notebook provides an interactive tool for visualizing anomaly detection results using patch-based comparison with a sub-bank of representative embeddings.\n",
    "\n",
    "## Features:\n",
    "- 🖼️ Interactive test image selection\n",
    "- 🧩 Patch-wise comparison with sub-bank\n",
    "- 🎨 Anomaly map generation and visualization\n",
    "- 📊 Interactive Plotly visualizations"
   ]
  },
  {
   "cell_type": "code",
   "execution_count": 1,
   "id": "2e0e403c",
   "metadata": {},
   "outputs": [
    {
     "name": "stdout",
     "output_type": "stream",
     "text": [
      "✅ Libraries imported successfully!\n"
     ]
    }
   ],
   "source": [
    "# Import Required Libraries\n",
    "import sys\n",
    "import os\n",
    "import numpy as np\n",
    "import pandas as pd\n",
    "import plotly.express as px\n",
    "import plotly.graph_objects as go\n",
    "from plotly.subplots import make_subplots\n",
    "import pickle\n",
    "from PIL import Image\n",
    "import ipywidgets as widgets\n",
    "from IPython.display import display, HTML\n",
    "import matplotlib.pyplot as plt\n",
    "from pathlib import Path\n",
    "\n",
    "# Add current directory to path for imports\n",
    "sys.path.insert(0, os.getcwd())\n",
    "\n",
    "print(\"✅ Libraries imported successfully!\")"
   ]
  },
  {
   "cell_type": "markdown",
   "id": "cc8c6351",
   "metadata": {},
   "source": [
    "## 📂 Load Test Images and Sub Bank Data\n",
    "\n",
    "Loading the test dataset and the optimized sub-bank created with K=2 clusters."
   ]
  },
  {
   "cell_type": "code",
   "execution_count": 2,
   "id": "75a2cc4c",
   "metadata": {},
   "outputs": [
    {
     "name": "stdout",
     "output_type": "stream",
     "text": [
      "📂 Loading MVTec wood dataset...\n",
      "✅ Loaded 20 test images\n",
      "📊 Available labels: {'combined', 'color', 'good'}\n",
      "\n",
      "🏦 Loading sub-bank...\n",
      "✅ Loaded sub-bank with shape: (1300, 512)\n"
     ]
    }
   ],
   "source": [
    "# Load test images and sub bank data\n",
    "try:\n",
    "    # Load dataset (assuming we can use the app's load function)\n",
    "    from app import load_mvtec_category\n",
    "    \n",
    "    print(\"📂 Loading MVTec wood dataset...\")\n",
    "    dataset = load_mvtec_category('wood')\n",
    "    \n",
    "    if dataset is None:\n",
    "        raise ValueError(\"Could not load dataset\")\n",
    "    \n",
    "    test_images = dataset.get('test_images', [])\n",
    "    test_labels = dataset.get('test_labels', [])\n",
    "    \n",
    "    print(f\"✅ Loaded {len(test_images)} test images\")\n",
    "    print(f\"📊 Available labels: {set(test_labels)}\")\n",
    "    \n",
    "    # Load sub bank\n",
    "    print(\"\\n🏦 Loading sub-bank...\")\n",
    "    sub_bank_path = \"sub_bank_k2.pkl\"\n",
    "    \n",
    "    if os.path.exists(sub_bank_path):\n",
    "        with open(sub_bank_path, 'rb') as f:\n",
    "            sub_bank = pickle.load(f)\n",
    "        print(f\"✅ Loaded sub-bank with shape: {sub_bank.shape}\")\n",
    "    else:\n",
    "        raise FileNotFoundError(f\"Sub-bank file not found: {sub_bank_path}\")\n",
    "        \n",
    "except Exception as e:\n",
    "    print(f\"❌ Error loading data: {e}\")\n",
    "    print(\"💡 Make sure you're running this from the enhanced_dashboard directory\")\n",
    "    print(\"💡 And that sub_bank_k2.pkl exists\")"
   ]
  },
  {
   "cell_type": "markdown",
   "id": "e32e1a3a",
   "metadata": {},
   "source": [
    "## 🎛️ Create Interactive Image Selector Widget\n",
    "\n",
    "Select which test image you want to analyze for anomalies."
   ]
  },
  {
   "cell_type": "code",
   "execution_count": 3,
   "id": "e1a61d0c",
   "metadata": {},
   "outputs": [
    {
     "name": "stdout",
     "output_type": "stream",
     "text": [
      "🎛️ Image selector created!\n"
     ]
    },
    {
     "data": {
      "application/vnd.jupyter.widget-view+json": {
       "model_id": "acffc140f451423f9a60304723fd3ac0",
       "version_major": 2,
       "version_minor": 0
      },
      "text/plain": [
       "Dropdown(description='Test Image:', layout=Layout(width='300px'), options=(('Image 1: color', 0), ('Image 2: c…"
      ]
     },
     "metadata": {},
     "output_type": "display_data"
    },
    {
     "data": {
      "application/vnd.jupyter.widget-view+json": {
       "model_id": "51b6bfceccbc4706bdf2b2a6276d2589",
       "version_major": 2,
       "version_minor": 0
      },
      "text/plain": [
       "Output()"
      ]
     },
     "metadata": {},
     "output_type": "display_data"
    }
   ],
   "source": [
    "# Create interactive image selector widget\n",
    "if 'test_images' in locals() and len(test_images) > 0:\n",
    "    \n",
    "    # Create dropdown options with image index and label\n",
    "    dropdown_options = []\n",
    "    for i, label in enumerate(test_labels):\n",
    "        dropdown_options.append((f\"Image {i+1}: {label}\", i))\n",
    "    \n",
    "    # Create the dropdown widget\n",
    "    image_selector = widgets.Dropdown(\n",
    "        options=dropdown_options,\n",
    "        value=0,\n",
    "        description='Test Image:',\n",
    "        style={'description_width': 'initial'},\n",
    "        layout=widgets.Layout(width='300px')\n",
    "    )\n",
    "    \n",
    "    # Create output widget for displaying selected image info\n",
    "    output_widget = widgets.Output()\n",
    "    \n",
    "    def on_image_change(change):\n",
    "        with output_widget:\n",
    "            output_widget.clear_output()\n",
    "            idx = change['new']\n",
    "            label = test_labels[idx]\n",
    "            img_shape = test_images[idx].shape\n",
    "            print(f\"🖼️ Selected: Image {idx+1}\")\n",
    "            print(f\"🏷️ Label: {label}\")\n",
    "            print(f\"📐 Shape: {img_shape}\")\n",
    "    \n",
    "    image_selector.observe(on_image_change, names='value')\n",
    "    \n",
    "    print(\"🎛️ Image selector created!\")\n",
    "    display(image_selector)\n",
    "    display(output_widget)\n",
    "    \n",
    "    # Trigger initial display\n",
    "    on_image_change({'new': 0})\n",
    "else:\n",
    "    print(\"❌ No test images available\")"
   ]
  },
  {
   "cell_type": "markdown",
   "id": "733eeead",
   "metadata": {},
   "source": [
    "## 🧩 Implement Patch Extraction Function\n",
    "\n",
    "Function to divide images into patches for comparison with the sub-bank."
   ]
  },
  {
   "cell_type": "code",
   "execution_count": 4,
   "id": "2ada9faf",
   "metadata": {},
   "outputs": [
    {
     "name": "stdout",
     "output_type": "stream",
     "text": [
      "🧩 Patch extraction functions defined!\n",
      "📝 Note: Using simplified embeddings for demonstration.\n",
      "🔧 In production, use the same ResNet18 features as create_bank.py\n"
     ]
    }
   ],
   "source": [
    "# Implement patch extraction function\n",
    "def extract_image_patches(image, patch_size=5, stride=5):\n",
    "    \"\"\"\n",
    "    Extract patches from an image for comparison.\n",
    "    \n",
    "    Args:\n",
    "        image: numpy array of shape (H, W, C)\n",
    "        patch_size: size of square patches\n",
    "        stride: step size between patches\n",
    "    \n",
    "    Returns:\n",
    "        patches: array of shape (n_patches, patch_size, patch_size, C)\n",
    "        patch_positions: list of (row, col) positions for each patch\n",
    "    \"\"\"\n",
    "    H, W, C = image.shape\n",
    "    patches = []\n",
    "    patch_positions = []\n",
    "    \n",
    "    # Extract patches\n",
    "    for i in range(0, H - patch_size + 1, stride):\n",
    "        for j in range(0, W - patch_size + 1, stride):\n",
    "            patch = image[i:i+patch_size, j:j+patch_size, :]\n",
    "            patches.append(patch)\n",
    "            patch_positions.append((i, j))\n",
    "    \n",
    "    return np.array(patches), patch_positions\n",
    "\n",
    "def patches_to_embeddings(patches):\n",
    "    \"\"\"\n",
    "    Convert patches to embeddings using the same method as the sub-bank.\n",
    "    For simplicity, we'll use mean RGB values and flatten.\n",
    "    This is a simplified version - in practice you'd use the same ResNet18 features.\n",
    "    \"\"\"\n",
    "    embeddings = []\n",
    "    for patch in patches:\n",
    "        # Simple feature extraction: flatten and normalize\n",
    "        # In reality, this should use the same ResNet18 model as create_bank.py\n",
    "        flattened = patch.flatten().astype(np.float32)\n",
    "        # Normalize to 0-1\n",
    "        if flattened.max() > 1:\n",
    "            flattened = flattened / 255.0\n",
    "        embeddings.append(flattened)\n",
    "    \n",
    "    return np.array(embeddings)\n",
    "\n",
    "# Test the function\n",
    "print(\"🧩 Patch extraction functions defined!\")\n",
    "print(\"📝 Note: Using simplified embeddings for demonstration.\")\n",
    "print(\"🔧 In production, use the same ResNet18 features as create_bank.py\")"
   ]
  },
  {
   "cell_type": "markdown",
   "id": "83433946",
   "metadata": {},
   "source": [
    "## 🔍 Implement Patch Comparison Algorithm\n",
    "\n",
    "Compare each image patch with all sub-bank patches to find anomalies."
   ]
  },
  {
   "cell_type": "code",
   "execution_count": 5,
   "id": "5d720591",
   "metadata": {},
   "outputs": [
    {
     "name": "stdout",
     "output_type": "stream",
     "text": [
      "🔍 Patch comparison functions defined!\n"
     ]
    }
   ],
   "source": [
    "# Implement patch comparison algorithm\n",
    "from sklearn.metrics.pairwise import cosine_distances, euclidean_distances\n",
    "\n",
    "def compare_patches_with_subbank(image_patches, sub_bank, method='cosine'):\n",
    "    \"\"\"\n",
    "    Compare image patches with sub-bank patches.\n",
    "    \n",
    "    Args:\n",
    "        image_patches: array of patch embeddings\n",
    "        sub_bank: sub-bank embeddings\n",
    "        method: 'cosine' or 'euclidean'\n",
    "    \n",
    "    Returns:\n",
    "        min_distances: minimum distance for each patch to sub-bank\n",
    "    \"\"\"\n",
    "    if method == 'cosine':\n",
    "        distances = cosine_distances(image_patches, sub_bank)\n",
    "    else:\n",
    "        distances = euclidean_distances(image_patches, sub_bank)\n",
    "    \n",
    "    # Take minimum distance for each patch (most similar sub-bank patch)\n",
    "    min_distances = np.min(distances, axis=1)\n",
    "    \n",
    "    return min_distances\n",
    "\n",
    "def create_anomaly_map(distances, patch_positions, image_shape, patch_size=5, stride=5):\n",
    "    \"\"\"\n",
    "    Create anomaly map from patch distances.\n",
    "    \n",
    "    Args:\n",
    "        distances: array of distances for each patch\n",
    "        patch_positions: list of (row, col) positions\n",
    "        image_shape: (H, W, C) of original image\n",
    "        patch_size: size of patches\n",
    "        stride: stride used for extraction\n",
    "    \n",
    "    Returns:\n",
    "        anomaly_map: 2D array representing anomaly scores\n",
    "    \"\"\"\n",
    "    H, W = image_shape[:2]\n",
    "    \n",
    "    # Calculate anomaly map dimensions\n",
    "    map_h = (H - patch_size) // stride + 1\n",
    "    map_w = (W - patch_size) // stride + 1\n",
    "    \n",
    "    anomaly_map = np.zeros((map_h, map_w))\n",
    "    \n",
    "    # Fill anomaly map\n",
    "    for idx, (i, j) in enumerate(patch_positions):\n",
    "        map_i = i // stride\n",
    "        map_j = j // stride\n",
    "        if map_i < map_h and map_j < map_w:\n",
    "            anomaly_map[map_i, map_j] = distances[idx]\n",
    "    \n",
    "    return anomaly_map\n",
    "\n",
    "print(\"🔍 Patch comparison functions defined!\")"
   ]
  },
  {
   "cell_type": "markdown",
   "id": "b2f6def9",
   "metadata": {},
   "source": [
    "## 🎨 Generate Anomaly Map\n",
    "\n",
    "Process the selected image and generate anomaly map."
   ]
  },
  {
   "cell_type": "code",
   "execution_count": 6,
   "id": "607031cb",
   "metadata": {},
   "outputs": [
    {
     "name": "stdout",
     "output_type": "stream",
     "text": [
      "🎯 Ready to analyze images!\n"
     ]
    }
   ],
   "source": [
    "# Generate anomaly map for selected image\n",
    "def analyze_selected_image(image_idx, patch_size=5, stride=5, comparison_method='cosine'):\n",
    "    \"\"\"\n",
    "    Analyze selected image and generate anomaly map.\n",
    "    \"\"\"\n",
    "    if image_idx >= len(test_images):\n",
    "        print(f\"❌ Invalid image index: {image_idx}\")\n",
    "        return None, None, None\n",
    "    \n",
    "    # Get selected image\n",
    "    image = test_images[image_idx]\n",
    "    label = test_labels[image_idx]\n",
    "    \n",
    "    print(f\"🔍 Analyzing Image {image_idx+1}: {label}\")\n",
    "    print(f\"📐 Image shape: {image.shape}\")\n",
    "    \n",
    "    # Extract patches\n",
    "    print(\"🧩 Extracting patches...\")\n",
    "    patches, patch_positions = extract_image_patches(image, patch_size, stride)\n",
    "    print(f\"📊 Extracted {len(patches)} patches\")\n",
    "    \n",
    "    # Convert to embeddings (simplified)\n",
    "    print(\"🧠 Converting to embeddings...\")\n",
    "    patch_embeddings = patches_to_embeddings(patches)\n",
    "    print(f\"📊 Embeddings shape: {patch_embeddings.shape}\")\n",
    "    \n",
    "    # Compare with sub-bank\n",
    "    print(f\"🔍 Comparing with sub-bank using {comparison_method} distance...\")\n",
    "    distances = compare_patches_with_subbank(patch_embeddings, sub_bank, comparison_method)\n",
    "    \n",
    "    # Create anomaly map\n",
    "    print(\"🎨 Creating anomaly map...\")\n",
    "    anomaly_map = create_anomaly_map(distances, patch_positions, image.shape, patch_size, stride)\n",
    "    \n",
    "    # Normalize anomaly map\n",
    "    if anomaly_map.max() > anomaly_map.min():\n",
    "        anomaly_map_norm = (anomaly_map - anomaly_map.min()) / (anomaly_map.max() - anomaly_map.min())\n",
    "    else:\n",
    "        anomaly_map_norm = anomaly_map\n",
    "    \n",
    "    print(f\"✅ Anomaly map created! Shape: {anomaly_map.shape}\")\n",
    "    print(f\"📊 Anomaly scores range: [{anomaly_map.min():.3f}, {anomaly_map.max():.3f}]\")\n",
    "    \n",
    "    return image, anomaly_map_norm, distances\n",
    "\n",
    "# Test with first image\n",
    "print(\"🎯 Ready to analyze images!\")"
   ]
  },
  {
   "cell_type": "markdown",
   "id": "5dea7ac7",
   "metadata": {},
   "source": [
    "## 📊 Create Interactive Plotly Visualization\n",
    "\n",
    "Visualize the original image and anomaly map side by side with interactive features."
   ]
  },
  {
   "cell_type": "code",
   "execution_count": 7,
   "id": "3dbf0a88",
   "metadata": {},
   "outputs": [
    {
     "name": "stdout",
     "output_type": "stream",
     "text": [
      "📊 Visualization functions created!\n"
     ]
    }
   ],
   "source": [
    "# Create interactive Plotly visualization\n",
    "def create_anomaly_visualization(image, anomaly_map, image_idx, distances=None):\n",
    "    \"\"\"\n",
    "    Create interactive visualization of image and anomaly map.\n",
    "    \"\"\"\n",
    "    label = test_labels[image_idx] if image_idx < len(test_labels) else 'unknown'\n",
    "    \n",
    "    # Create subplots\n",
    "    fig = make_subplots(\n",
    "        rows=1, cols=2,\n",
    "        subplot_titles=(f\"Original Image - {label}\", \"Anomaly Map\"),\n",
    "        specs=[[{\"type\": \"image\"}, {\"type\": \"heatmap\"}]]\n",
    "    )\n",
    "    \n",
    "    # Add original image\n",
    "    fig.add_trace(\n",
    "        go.Image(z=image, name=\"Original\"),\n",
    "        row=1, col=1\n",
    "    )\n",
    "    \n",
    "    # Add anomaly map heatmap\n",
    "    fig.add_trace(\n",
    "        go.Heatmap(\n",
    "            z=np.flipud(anomaly_map),  # Flip to match image orientation\n",
    "            colorscale='Reds',\n",
    "            showscale=True,\n",
    "            colorbar=dict(\n",
    "                title=\"Anomaly Score\",\n",
    "                titleside=\"right\"\n",
    "            ),\n",
    "            hovertemplate='<b>Anomaly Score</b>: %{z:.3f}<extra></extra>',\n",
    "            name=\"Anomaly Map\"\n",
    "        ),\n",
    "        row=1, col=2\n",
    "    )\n",
    "    \n",
    "    # Update layout\n",
    "    fig.update_layout(\n",
    "        title=f\"Anomaly Detection Results - Image {image_idx+1}\",\n",
    "        height=500,\n",
    "        showlegend=False\n",
    "    )\n",
    "    \n",
    "    # Update axes\n",
    "    fig.update_xaxes(showticklabels=False)\n",
    "    fig.update_yaxes(showticklabels=False)\n",
    "    \n",
    "    return fig\n",
    "\n",
    "# Create analysis and visualization function\n",
    "def analyze_and_visualize(image_idx, patch_size=5, stride=5, method='cosine'):\n",
    "    \"\"\"\n",
    "    Complete analysis and visualization pipeline.\n",
    "    \"\"\"\n",
    "    # Analyze image\n",
    "    image, anomaly_map, distances = analyze_selected_image(\n",
    "        image_idx, patch_size, stride, method\n",
    "    )\n",
    "    \n",
    "    if image is None:\n",
    "        return\n",
    "    \n",
    "    # Create visualization\n",
    "    fig = create_anomaly_visualization(image, anomaly_map, image_idx, distances)\n",
    "    \n",
    "    # Display\n",
    "    fig.show()\n",
    "    \n",
    "    # Print statistics\n",
    "    print(f\"\\n📊 Analysis Statistics:\")\n",
    "    print(f\"   • Image: {image_idx+1} ({test_labels[image_idx]})\")\n",
    "    print(f\"   • Patches analyzed: {len(distances) if distances is not None else 'N/A'}\")\n",
    "    print(f\"   • Anomaly map shape: {anomaly_map.shape}\")\n",
    "    print(f\"   • Max anomaly score: {anomaly_map.max():.3f}\")\n",
    "    print(f\"   • Mean anomaly score: {anomaly_map.mean():.3f}\")\n",
    "\n",
    "print(\"📊 Visualization functions created!\")"
   ]
  },
  {
   "cell_type": "markdown",
   "id": "604ccde3",
   "metadata": {},
   "source": [
    "## 🎮 Interactive Analysis Interface\n",
    "\n",
    "Use the controls below to analyze different images with various parameters."
   ]
  },
  {
   "cell_type": "code",
   "execution_count": 9,
   "id": "2a15c686",
   "metadata": {},
   "outputs": [
    {
     "name": "stdout",
     "output_type": "stream",
     "text": [
      "🎮 Interactive Analysis Interface\n",
      "========================================\n"
     ]
    },
    {
     "data": {
      "application/vnd.jupyter.widget-view+json": {
       "model_id": "6d377571e43942ad9010e37f017d2593",
       "version_major": 2,
       "version_minor": 0
      },
      "text/plain": [
       "VBox(children=(HBox(children=(Dropdown(description='Image:', options=(('Image 1: color', 0), ('Image 2: color'…"
      ]
     },
     "metadata": {},
     "output_type": "display_data"
    },
    {
     "data": {
      "application/vnd.jupyter.widget-view+json": {
       "model_id": "cb71396b04c9498b9b148c1adc387188",
       "version_major": 2,
       "version_minor": 0
      },
      "text/plain": [
       "Output()"
      ]
     },
     "metadata": {},
     "output_type": "display_data"
    },
    {
     "name": "stdout",
     "output_type": "stream",
     "text": [
      "\n",
      "🚀 Running initial analysis...\n"
     ]
    }
   ],
   "source": [
    "# Create interactive analysis interface\n",
    "if 'test_images' in locals() and len(test_images) > 0:\n",
    "    \n",
    "    # Create parameter widgets\n",
    "    image_widget = widgets.Dropdown(\n",
    "        options=[(f\"Image {i+1}: {test_labels[i]}\", i) for i in range(len(test_images))],\n",
    "        value=0,\n",
    "        description='Image:',\n",
    "        style={'description_width': 'initial'}\n",
    "    )\n",
    "    \n",
    "    patch_size_widget = widgets.IntSlider(\n",
    "        value=5,\n",
    "        min=3,\n",
    "        max=15,\n",
    "        step=1,\n",
    "        description='Patch Size:',\n",
    "        style={'description_width': 'initial'}\n",
    "    )\n",
    "    \n",
    "    stride_widget = widgets.IntSlider(\n",
    "        value=5,\n",
    "        min=1,\n",
    "        max=10,\n",
    "        step=1,\n",
    "        description='Stride:',\n",
    "        style={'description_width': 'initial'}\n",
    "    )\n",
    "    \n",
    "    method_widget = widgets.Dropdown(\n",
    "        options=[('Cosine Distance', 'cosine'), ('Euclidean Distance', 'euclidean')],\n",
    "        value='cosine',\n",
    "        description='Method:',\n",
    "        style={'description_width': 'initial'}\n",
    "    )\n",
    "    \n",
    "    analyze_button = widgets.Button(\n",
    "        description='🔍 Analyze Image',\n",
    "        button_style='primary',\n",
    "        layout=widgets.Layout(width='200px')\n",
    "    )\n",
    "    \n",
    "    # Create output area\n",
    "    analysis_output = widgets.Output()\n",
    "    \n",
    "    def on_analyze_click(b):\n",
    "        with analysis_output:\n",
    "            analysis_output.clear_output()\n",
    "            try:\n",
    "                analyze_and_visualize(\n",
    "                    image_widget.value,\n",
    "                    patch_size_widget.value,\n",
    "                    stride_widget.value,\n",
    "                    method_widget.value\n",
    "                )\n",
    "            except Exception as e:\n",
    "                print(f\"❌ Error during analysis: {e}\")\n",
    "    \n",
    "    analyze_button.on_click(on_analyze_click)\n",
    "    \n",
    "    # Display interface\n",
    "    print(\"🎮 Interactive Analysis Interface\")\n",
    "    print(\"=\" * 40)\n",
    "    \n",
    "    controls = widgets.VBox([\n",
    "        widgets.HBox([image_widget, method_widget]),\n",
    "        widgets.HBox([patch_size_widget, stride_widget]),\n",
    "        analyze_button\n",
    "    ])\n",
    "    \n",
    "    display(controls)\n",
    "    display(analysis_output)\n",
    "    \n",
    "    # Run initial analysis\n",
    "    print(\"\\n🚀 Running initial analysis...\")\n",
    "    with analysis_output:\n",
    "        analyze_and_visualize(0, 5, 5, 'cosine')\n",
    "\n",
    "else:\n",
    "    print(\"❌ No test images available for analysis\")"
   ]
  },
  {
   "cell_type": "markdown",
   "id": "13ffe229",
   "metadata": {},
   "source": [
    "## 📝 Summary\n",
    "\n",
    "This notebook provides an interactive tool for:\n",
    "\n",
    "1. **Image Selection**: Choose from available test images\n",
    "2. **Patch Analysis**: Extract and compare patches with sub-bank\n",
    "3. **Anomaly Detection**: Generate anomaly maps based on distance metrics\n",
    "4. **Visualization**: Interactive Plotly visualizations\n",
    "\n",
    "### 🔧 Technical Notes:\n",
    "\n",
    "- **Simplified Embeddings**: This demo uses flattened RGB values instead of ResNet18 features for simplicity\n",
    "- **Sub-Bank**: Uses the optimized K=2 cluster sub-bank created by `create_sub_bank.py`\n",
    "- **Distance Metrics**: Supports both cosine and Euclidean distance\n",
    "- **Interactive**: Real-time parameter adjustment and visualization\n",
    "\n",
    "### 🚀 Next Steps:\n",
    "\n",
    "- Replace simplified embeddings with actual ResNet18 features\n",
    "- Add more distance metrics and comparison methods\n",
    "- Implement patch-level visualization overlay\n",
    "- Add statistical analysis and anomaly scoring"
   ]
  }
 ],
 "metadata": {
  "kernelspec": {
   "display_name": ".venv",
   "language": "python",
   "name": "python3"
  },
  "language_info": {
   "codemirror_mode": {
    "name": "ipython",
    "version": 3
   },
   "file_extension": ".py",
   "mimetype": "text/x-python",
   "name": "python",
   "nbconvert_exporter": "python",
   "pygments_lexer": "ipython3",
   "version": "3.12.3"
  }
 },
 "nbformat": 4,
 "nbformat_minor": 5
}
