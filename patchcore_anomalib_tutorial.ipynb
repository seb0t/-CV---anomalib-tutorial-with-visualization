{
 "cells": [
  {
   "cell_type": "markdown",
   "id": "2886e3bc",
   "metadata": {},
   "source": [
    "# PatchCore con anomalib: Guida passo-passo con immagini semplici (10x10 pixel)\n",
    "\n",
    "Questo notebook ti guiderà nella comprensione dettagliata del funzionamento della libreria **anomalib** di Intel, con il modello **PatchCore**. Useremo immagini semplici (10x10 pixel) per spiegare ogni passaggio, dal training alla prediction, con commenti chiari e nessun passaggio dato per scontato."
   ]
  },
  {
   "cell_type": "code",
   "execution_count": 2,
   "id": "a6f9007c",
   "metadata": {},
   "outputs": [
    {
     "name": "stdout",
     "output_type": "stream",
     "text": [
      "zsh:1: no matches found: anomalib[full]\n"
     ]
    }
   ],
   "source": [
    "# Sezione 1: Installa anomalib e le librerie necessarie\n",
    "\n",
    "# Questa cella installa anomalib (di Intel) e le librerie fondamentali per il notebook.\n",
    "# anomalib include PatchCore e altri modelli per anomaly detection.\n",
    "# NOTA: Il comando !pip install funziona solo in ambiente notebook.\n",
    "\n",
    "!pip install anomalib[full] torch torchvision matplotlib --quiet"
   ]
  },
  {
   "cell_type": "code",
   "execution_count": 3,
   "id": "997d24e9",
   "metadata": {},
   "outputs": [
    {
     "name": "stderr",
     "output_type": "stream",
     "text": [
      "/Users/qwerty/coding/test_notebook/.venv_prova/lib/python3.13/site-packages/timm/models/layers/__init__.py:48: FutureWarning: Importing from timm.models.layers is deprecated, please import via timm.layers\n",
      "  warnings.warn(f\"Importing from {__name__} is deprecated, please import via timm.layers\", FutureWarning)\n"
     ]
    }
   ],
   "source": [
    "# Importa le librerie fondamentali\n",
    "import torch\n",
    "import numpy as np\n",
    "import matplotlib.pyplot as plt\n",
    "from torchvision import transforms\n",
    "\n",
    "from anomalib.models import Patchcore\n",
    "from anomalib.data.utils import TestSplitMode\n",
    "\n",
    "# Imposta il seed per la riproducibilità\n",
    "np.random.seed(42)\n",
    "torch.manual_seed(42)\n",
    "\n",
    "# Imposta tema scuro per matplotlib\n",
    "plt.style.use('dark_background')"
   ]
  },
  {
   "cell_type": "markdown",
   "id": "aac60213",
   "metadata": {},
   "source": [
    "## Sezione 2: Carica e visualizza una semplice immagine 10x10 pixel\n",
    "\n",
    "Per capire i concetti fondamentali, partiamo da un esempio molto semplice: un'immagine di 10x10 pixel."
   ]
  },
  {
   "cell_type": "code",
   "execution_count": 4,
   "id": "5cecacdd",
   "metadata": {},
   "outputs": [
    {
     "data": {
      "image/png": "[encoded data removed]",
      "text/plain": [
       "<Figure size 200x200 with 1 Axes>"
      ]
     },
     "metadata": {},
     "output_type": "display_data"
    }
   ],
   "source": [
    "# Creiamo una semplice immagine 20x20 pixel con uno smiley (simbolo) come esempio 'good'\n",
    "def draw_smiley(size=20):\n",
    "    img = np.ones((size, size), dtype=np.float32)\n",
    "    # Occhi\n",
    "    img[5:7, 5:7] = 0  # occhio sinistro\n",
    "    img[5:7, size-7:size-5] = 0  # occhio destro\n",
    "    # Bocca (arco)\n",
    "    for x in range(6, size-6):\n",
    "        y = int(0.5 * np.sin((x-6)/(size-12)*np.pi) * 4 + (size-6))\n",
    "        if y < size:\n",
    "            img[y, x] = 0\n",
    "    return img\n",
    "\n",
    "img_simple = draw_smiley(20)\n",
    "\n",
    "plt.figure(figsize=(2,2))\n",
    "plt.imshow(img_simple, cmap='gray', vmin=0, vmax=1)\n",
    "plt.title('Immagine 20x20 pixel (smiley)')\n",
    "plt.axis('off')\n",
    "plt.show()\n",
    "\n",
    "# Questa immagine rappresenta un esempio \"normale\" (senza anomalie)"
   ]
  },
  {
   "cell_type": "markdown",
   "id": "ecea7a1a",
   "metadata": {},
   "source": [
    "## Sezione 3: Prepara un dataset minimale (10x10 pixel)\n",
    "\n",
    "Creiamo un piccolo dataset con alcune immagini \"normali\" e alcune \"anomale\". Visualizzeremo ogni esempio per capire la differenza."
   ]
  },
  {
   "cell_type": "code",
   "execution_count": 5,
   "id": "3fb67606",
   "metadata": {},
   "outputs": [
    {
     "data": {
      "image/png": "[encoded data removed]",
      "text/plain": [
       "<Figure size 1800x200 with 12 Axes>"
      ]
     },
     "metadata": {},
     "output_type": "display_data"
    }
   ],
   "source": [
    "# Creiamo un dataset di immagini 20x20\n",
    "# 10 immagini normali (smiley + white noise), 2 immagini anomale (smiley + pixel neri)\n",
    "\n",
    "def draw_smiley(size=20, noise_std=0.08):\n",
    "    img = np.ones((size, size), dtype=np.float32)\n",
    "    # Occhi\n",
    "    img[5:7, 5:7] = 0  # occhio sinistro\n",
    "    img[5:7, size-7:size-5] = 0  # occhio destro\n",
    "    # Bocca (arco)\n",
    "    for x in range(6, size-6):\n",
    "        y = int(0.5 * np.sin((x-6)/(size-12)*np.pi) * 4 + (size-6))\n",
    "        if y < size:\n",
    "            img[y, x] = 0\n",
    "    # Aggiungi rumore bianco\n",
    "    noise = np.random.normal(0, noise_std, (size, size)).astype(np.float32)\n",
    "    img = np.clip(img + noise, 0, 1)\n",
    "    return img\n",
    "\n",
    "dataset = []\n",
    "labels = []  # 0 = normale, 1 = anomalia\n",
    "\n",
    "# Immagini normali (smiley diversi con rumore)\n",
    "for _ in range(10):\n",
    "    img = draw_smiley(20, noise_std=0.08)\n",
    "    dataset.append(img)\n",
    "    labels.append(0)\n",
    "\n",
    "# Immagini anomale (smiley + pixel neri in posizione diversa)\n",
    "img_anom1 = draw_smiley(20, noise_std=0.08)\n",
    "img_anom1[10, 10] = 0  # pixel centrale nero\n",
    "\n",
    "dataset.append(img_anom1)\n",
    "labels.append(1)\n",
    "\n",
    "img_anom2 = draw_smiley(20, noise_std=0.08)\n",
    "img_anom2[3, 16] = 0  # pixel in alto a destra nero\n",
    "\n",
    "dataset.append(img_anom2)\n",
    "labels.append(1)\n",
    "\n",
    "# Visualizza tutte le immagini\n",
    "fig, axs = plt.subplots(1, 12, figsize=(18,2))\n",
    "for i, (img, label) in enumerate(zip(dataset, labels)):\n",
    "    axs[i].imshow(img, cmap='gray', vmin=0, vmax=1)\n",
    "    axs[i].set_title('Normale' if label==0 else 'Anomalia')\n",
    "    axs[i].axis('off')\n",
    "plt.suptitle('Dataset: 10 smiley diversi (noise), 2 anomale')\n",
    "plt.show()"
   ]
  },
  {
   "cell_type": "markdown",
   "id": "60651ed4",
   "metadata": {},
   "source": [
    "## Sezione 4: Inizializza e configura il modello PatchCore\n",
    "\n",
    "Ora importiamo PatchCore da anomalib e configuriamo il modello per lavorare con il nostro dataset semplice. Spiegheremo ogni parametro fondamentale."
   ]
  },
  {
   "cell_type": "code",
   "execution_count": 6,
   "id": "c05a9241",
   "metadata": {},
   "outputs": [
    {
     "name": "stdout",
     "output_type": "stream",
     "text": [
      "PatchCore inizializzato per immagini 20x20.\n"
     ]
    }
   ],
   "source": [
    "# Inizializziamo PatchCore per immagini 20x20\n",
    "# PatchCore normalmente usa una backbone pre-addestrata (es. ResNet),\n",
    "# ma per semplicità useremo una configurazione minima.\n",
    "\n",
    "def to_rgb(img):\n",
    "    return np.stack([img]*3, axis=0)  # shape (3, 20, 20)\n",
    "\n",
    "dataset_rgb = [to_rgb(img) for img in dataset]\n",
    "\n",
    "dummy_transform = transforms.Compose([\n",
    "    transforms.ToTensor(),\n",
    "])\n",
    "\n",
    "# Configurazione PatchCore (parametri principali spiegati):\n",
    "patchcore = Patchcore(\n",
    "    backbone=\"resnet18\",  # Rete di feature extraction (piccola per semplicità)\n",
    "    layers=[\"layer2\"],  # Da quale layer estrarre le feature\n",
    "    coreset_sampling_ratio=1.0,  # Usiamo tutte le patch (nessun subsampling)\n",
    ")\n",
    "\n",
    "print(\"PatchCore inizializzato per immagini 20x20.\")"
   ]
  },
  {
   "cell_type": "markdown",
   "id": "f684a13a",
   "metadata": {},
   "source": [
    "## Sezione 5: Allena PatchCore sul dataset minimale\n",
    "\n",
    "Ora addestriamo PatchCore sulle immagini normali. Spiegheremo ogni passaggio del processo di training."
   ]
  },
  {
   "cell_type": "code",
   "execution_count": 7,
   "id": "0d10007a",
   "metadata": {},
   "outputs": [
    {
     "name": "stdout",
     "output_type": "stream",
     "text": [
      "Simulazione didattica: PatchCore pronto per la predizione sulle immagini custom.\n"
     ]
    }
   ],
   "source": [
    "# PatchCore in anomalib 2.x richiede un datamodule, ma per scopi didattici useremo una simulazione manuale.\n",
    "# In questo esempio, NON addestriamo davvero Patchcore, ma mostriamo la logica didattica su immagini custom.\n",
    "# In un caso reale, usare un datamodule conforme ad anomalib oppure un dataset standard come MVTecAD.\n",
    "print('Simulazione didattica: PatchCore pronto per la predizione sulle immagini custom.')"
   ]
  },
  {
   "cell_type": "markdown",
   "id": "50f8d10e",
   "metadata": {},
   "source": [
    "## Sezione 6: Visualizza le patch embedding e l'estrazione delle feature\n",
    "\n",
    "Vediamo come PatchCore estrae le feature (embedding) dalle immagini, visualizzando le patch e le loro rappresentazioni numeriche."
   ]
  },
  {
   "cell_type": "code",
   "execution_count": 16,
   "id": "70b9fc70",
   "metadata": {},
   "outputs": [
    {
     "data": {
      "image/png": "[encoded data removed]",
      "text/plain": [
       "<Figure size 640x480 with 1 Axes>"
      ]
     },
     "metadata": {},
     "output_type": "display_data"
    },
    {
     "name": "stdout",
     "output_type": "stream",
     "text": [
      "Vettore patch centrale: [1.         0.98893887 1.         1.         0.98126775 1.\n",
      " 0.9819379  1.         0.8860201  0.9564494  1.         1.\n",
      " 0.99074817 0.9759117  0.8817182  0.96166605 0.9851473  0.9114932\n",
      " 0.9043035  1.         0.9824262  1.         1.         0.9585384\n",
      " 0.9353205  1.         0.98893887 1.         1.         0.98126775\n",
      " 1.         0.9819379  1.         0.8860201  0.9564494  1.\n",
      " 1.         0.99074817 0.9759117  0.8817182  0.96166605 0.9851473\n",
      " 0.9114932  0.9043035  1.         0.9824262  1.         1.\n",
      " 0.9585384  0.9353205  1.         0.98893887 1.         1.\n",
      " 0.98126775 1.         0.9819379  1.         0.8860201  0.9564494\n",
      " 1.         1.         0.99074817 0.9759117  0.8817182  0.96166605\n",
      " 0.9851473  0.9114932  0.9043035  1.         0.9824262  1.\n",
      " 1.         0.9585384  0.9353205 ]\n",
      "75 elementi nel vettore (3 canali * 5x5 pixel)\n"
     ]
    }
   ],
   "source": [
    "# Prendiamo una delle immagini normali e mostriamo la suddivisione in patch 5x5\n",
    "img_example = dataset_rgb[0]  # shape (3, 20, 20)\n",
    "\n",
    "fig, ax = plt.subplots()\n",
    "ax.imshow(np.transpose(img_example, (1,2,0)), cmap='gray', vmin=0, vmax=1)\n",
    "for i in range(0, 20, 5):\n",
    "    for j in range(0, 20, 5):\n",
    "        rect = plt.Rectangle((j-0.5, i-0.5), 5, 5, edgecolor='red', facecolor='none', linewidth=1)\n",
    "        ax.add_patch(rect)\n",
    "plt.title('Esempio di suddivisione in patch 5x5')\n",
    "plt.axis('off')\n",
    "plt.show()\n",
    "\n",
    "# Ogni patch (5x5) può essere estratta e 'flattened' in un vettore numerico\n",
    "patch = img_example[:, 0:5, 0:5]  # patch centrale\n",
    "patch_vec = patch.flatten()\n",
    "print('Vettore patch centrale:', patch_vec)\n",
    "print(len(patch_vec), 'elementi nel vettore (3 canali * 5x5 pixel)')"
   ]
  },
  {
   "cell_type": "markdown",
   "id": "93029ab5",
   "metadata": {},
   "source": [
    "## Sezione 7: Predizione di anomalie su una immagine di test\n",
    "\n",
    "Utilizziamo il modello PatchCore addestrato per predire se una nuova immagine contiene anomalie. Vedremo ogni passaggio della prediction."
   ]
  },
  {
   "cell_type": "code",
   "execution_count": 17,
   "id": "096d2bb9",
   "metadata": {},
   "outputs": [
    {
     "name": "stdout",
     "output_type": "stream",
     "text": [
      "[np.float32(1.8878546), np.float32(1.8424317), np.float32(1.7835577)]\n",
      "Anomaly score (patch anomala): 1.7836\n"
     ]
    },
    {
     "data": {
      "image/png": "[encoded data removed]",
      "text/plain": [
       "<Figure size 640x480 with 1 Axes>"
      ]
     },
     "metadata": {},
     "output_type": "display_data"
    },
    {
     "data": {
      "image/png": "[encoded data removed]",
      "text/plain": [
       "<Figure size 640x480 with 2 Axes>"
      ]
     },
     "metadata": {},
     "output_type": "display_data"
    }
   ],
   "source": [
    "# Esempio didattico: calcolo score di anomalia e heatmap manuale\n",
    "# Prendiamo una delle immagini anomale come test\n",
    "img_test = dataset_rgb[-1]  # shape (3, 20, 20)\n",
    "\n",
    "# Simuliamo la logica Patchcore: calcoliamo la distanza tra la patch contenente l'anomalia della test e quella delle immagini normali\n",
    "patch_test = img_test[:, 0:5, 15:20].flatten()\n",
    "\n",
    "# Calcoliamo la distanza euclidea tra la patch test e le patch relative delle immagini normali\n",
    "patches_norm = [img[:, 0:5, 15:20].flatten() for img in dataset_rgb[:3]]\n",
    "dists = [np.linalg.norm(patch_test - p) for p in patches_norm]\n",
    "\n",
    "print(dists)\n",
    "\n",
    "score = np.min(dists)  # Patchcore usa la distanza minima dal memory bank\n",
    "print(f\"Anomaly score (patch anomala): {score:.4f}\")\n",
    "\n",
    "# Per la heatmap: creiamo una mappa 20x20 con valore alto solo nella patch contenente l'anomalia se la distanza è alta\n",
    "anomaly_map = np.zeros((20,20))\n",
    "anomaly_map[0:5,15:20] = score\n",
    "\n",
    "plt.imshow(np.transpose(img_test, (1,2,0)), cmap='gray', vmin=0, vmax=1)\n",
    "plt.title('Immagine di test')\n",
    "plt.axis('off')\n",
    "plt.show()\n",
    "\n",
    "plt.imshow(anomaly_map, cmap='Blues')\n",
    "plt.title('Anomaly Map (Blues)')\n",
    "plt.axis('off')\n",
    "plt.colorbar()\n",
    "plt.show()"
   ]
  },
  {
   "cell_type": "markdown",
   "id": "31eeae81",
   "metadata": {},
   "source": [
    "## Sezione 8: Visualizza gli score di anomalia e le heatmap\n",
    "\n",
    "Visualizziamo la mappa di anomalia (anomaly map) prodotta da PatchCore, per capire dove il modello rileva l'anomalia nell'immagine."
   ]
  },
  {
   "cell_type": "code",
   "execution_count": 10,
   "id": "3ae409e5",
   "metadata": {},
   "outputs": [
    {
     "data": {
      "image/png": "[encoded data removed]",
      "text/plain": [
       "<Figure size 800x300 with 3 Axes>"
      ]
     },
     "metadata": {},
     "output_type": "display_data"
    }
   ],
   "source": [
    "# Visualizziamo la heatmap di anomalia sopra l'immagine di test\n",
    "fig, ax = plt.subplots(1,2, figsize=(8,3))\n",
    "ax[0].imshow(np.transpose(img_test, (1, 2, 0)), cmap='gray', vmin=0, vmax=1)\n",
    "ax[0].set_title('Immagine di test')\n",
    "ax[0].axis('off')\n",
    "\n",
    "im = ax[1].imshow(anomaly_map, cmap='Blues')\n",
    "ax[1].set_title('Anomaly Map (Blues)')\n",
    "ax[1].axis('off')\n",
    "plt.colorbar(im, ax=ax[1], fraction=0.046, pad=0.04)\n",
    "plt.suptitle(f'Score globale: {score:.4f}')\n",
    "plt.show()\n",
    "\n",
    "# Le zone più \"intense\" indicano dove PatchCore rileva l'anomalia"
   ]
  },
  {
   "cell_type": "code",
   "execution_count": 11,
   "id": "292eb167",
   "metadata": {},
   "outputs": [
    {
     "data": {
      "image/png": "[encoded data removed]",
      "text/plain": [
       "<Figure size 800x400 with 3 Axes>"
      ]
     },
     "metadata": {},
     "output_type": "display_data"
    }
   ],
   "source": [
    "# Calcola la anomaly map su tutte le patch 5x5 dell'immagine di test\n",
    "# patch_size: dimensione della patch quadrata (es. 5 significa 5x5 pixel)\n",
    "# stride: passo con cui si sposta la finestra patch sull'immagine\n",
    "# Se stride < patch_size, le patch si sovrappongono (più dettagli, più calcoli)\n",
    "# Se stride = patch_size, le patch sono adiacenti e non si sovrappongono (più veloce, meno dettagli)\n",
    "# Se stride > patch_size, alcune zone potrebbero non essere coperte (sconsigliato)\n",
    "patch_size = 3\n",
    "stride = 2  # Prova a cambiare in 1 per una mappa più dettagliata ma più lenta\n",
    "anomaly_map_full = np.zeros((20, 20))\n",
    "\n",
    "# Per ogni patch (qui non-overlapping, ma puoi cambiare stride per sovrapposizione)\n",
    "for i in range(0, 20, stride):\n",
    "    for j in range(0, 20, stride):\n",
    "        # Estrai la patch di test\n",
    "        patch_test = img_test[:, i:i+patch_size, j:j+patch_size].flatten()\n",
    "        # Calcola la distanza minima tra questa patch e le patch corrispondenti delle immagini normali\n",
    "        patches_norm = [img[:, i:i+patch_size, j:j+patch_size].flatten() for img in dataset_rgb[:10]]\n",
    "        dists = [np.linalg.norm(patch_test - p) for p in patches_norm]\n",
    "        score = np.min(dists)\n",
    "        # Assegna lo score a tutta la patch nella anomaly map\n",
    "        anomaly_map_full[i:i+patch_size, j:j+patch_size] = score\n",
    "\n",
    "fig, ax = plt.subplots(1, 2, figsize=(8, 4))\n",
    "ax[0].imshow(np.transpose(img_test, (1,2,0)), cmap='gray', vmin=0, vmax=1)\n",
    "ax[0].set_title('Immagine di test', pad=10)\n",
    "ax[0].axis('off')\n",
    "im = ax[1].imshow(anomaly_map_full, cmap='Blues')\n",
    "ax[1].set_title('Anomaly Map completa', pad=10)\n",
    "ax[1].axis('off')\n",
    "plt.colorbar(im, ax=ax[1], fraction=0.046, pad=0.04)\n",
    "plt.tight_layout()\n",
    "plt.show()\n",
    "\n",
    "# Cambiando patch_size e stride puoi controllare la \"risoluzione\" e la sensibilità della anomaly map:\n",
    "# - patch_size piccolo: più dettagli, ma più sensibile al rumore\n",
    "# - patch_size grande: meno dettagli, più robusto ma meno localizzazione\n",
    "# - stride piccolo: più patch, mappa più continua ma più lenta\n",
    "# - stride grande: meno patch, mappa più \"a blocchi\" e veloce"
   ]
  },
  {
   "cell_type": "markdown",
   "id": "b187c143",
   "metadata": {},
   "source": [
    "## Sezione 9: Spiegazione dettagliata dei calcoli di PatchCore\n",
    "\n",
    "Vediamo passo passo quali calcoli esegue PatchCore: estrazione delle patch, calcolo delle embedding, confronto e scoring delle anomalie, con esempi numerici e diagrammi semplici."
   ]
  },
  {
   "cell_type": "code",
   "execution_count": 12,
   "id": "50c15c36",
   "metadata": {},
   "outputs": [
    {
     "data": {
      "image/png": "[encoded data removed]",
      "text/plain": [
       "<Figure size 640x480 with 1 Axes>"
      ]
     },
     "metadata": {},
     "output_type": "display_data"
    },
    {
     "name": "stdout",
     "output_type": "stream",
     "text": [
      "Vettore patch: [1. 1. 1. 1. 0. 1. 1. 1. 1.]\n",
      "Distanza euclidea dalla patch normale: 1.0000\n"
     ]
    }
   ],
   "source": [
    "# Esempio didattico: calcoli fondamentali di PatchCore su immagini 10x10\n",
    "# 1. Estrazione delle patch\n",
    "img = np.ones((10, 10), dtype=np.float32)\n",
    "img[5, 5] = 0  # pixel anomalo\n",
    "\n",
    "# Visualizza la patch centrale 3x3\n",
    "patch = img[4:7, 4:7]\n",
    "plt.imshow(patch, cmap='gray', vmin=0, vmax=1)\n",
    "plt.title('Patch centrale 3x3')\n",
    "plt.axis('off')\n",
    "plt.show()\n",
    "\n",
    "# 2. Trasformazione della patch in un vettore (flatten)\n",
    "patch_vec = patch.flatten()\n",
    "print(\"Vettore patch:\", patch_vec)\n",
    "\n",
    "# 3. Confronto con le patch normali (esempio: distanza euclidea)\n",
    "# Supponiamo che la patch normale sia tutta 1\n",
    "patch_normale = np.ones((3,3), dtype=np.float32).flatten()\n",
    "dist = np.linalg.norm(patch_vec - patch_normale)\n",
    "print(f\"Distanza euclidea dalla patch normale: {dist:.4f}\")\n",
    "\n",
    "# 4. PatchCore memorizza tutte le patch normali e calcola la distanza minima per ogni patch test\n",
    "# Se la distanza è alta, la patch è anomala\n",
    "\n",
    "# 5. L'anomaly map è costruita mettendo insieme le distanze di tutte le patch dell'immagine"
   ]
  },
  {
   "cell_type": "code",
   "execution_count": 13,
   "id": "b8121ce5",
   "metadata": {},
   "outputs": [
    {
     "data": {
      "application/vnd.jupyter.widget-view+json": {
       "model_id": "97a3978591cb48189c6a16bd8cc07fb9",
       "version_major": 2,
       "version_minor": 0
      },
      "text/plain": [
       "interactive(children=(IntSlider(value=5, description='patch_size', layout=Layout(width='350px'), max=10, min=2…"
      ]
     },
     "metadata": {},
     "output_type": "display_data"
    },
    {
     "data": {
      "text/html": [
       "\n",
       "<style>\n",
       ".jp-OutputArea, .output_wrapper, .output {\n",
       "    background: #222 !important;\n",
       "    color: #ccc !important;\n",
       "}\n",
       ".widget-label, .widget-readout, .widget-inline-hbox label {\n",
       "    color: #aaa !important;\n",
       "}\n",
       ".widget-slider .slider-label {\n",
       "    color: #aaa !important;\n",
       "}\n",
       ".widget-slider .slider {\n",
       "    background: #333 !important;\n",
       "}\n",
       "</style>\n"
      ],
      "text/plain": [
       "<IPython.core.display.HTML object>"
      ]
     },
     "execution_count": 13,
     "metadata": {},
     "output_type": "execute_result"
    }
   ],
   "source": [
    "# Interfaccia interattiva per esplorare patch_size e stride con scala fissa e tema scuro per i widget\n",
    "import ipywidgets as widgets\n",
    "from ipywidgets import interact, Layout\n",
    "from IPython.display import display\n",
    "\n",
    "# Applica tema scuro agli slider e testo\n",
    "style = {'description_width': 'initial'}\n",
    "slider_style = {'handle_color': '#888', 'bar_color': '#333'}\n",
    "slider_layout = Layout(width='350px', background_color='#222')\n",
    "\n",
    "# Calcola i limiti globali per la colorbar (score min/max)\n",
    "def get_score_limits():\n",
    "    min_score, max_score = float('inf'), float('-inf')\n",
    "    for patch_size in range(2, 11):\n",
    "        for stride in range(1, 11):\n",
    "            anomaly_map_full = np.zeros((20, 20))\n",
    "            for i in range(0, 20 - patch_size + 1, stride):\n",
    "                for j in range(0, 20 - patch_size + 1, stride):\n",
    "                    patch_test = img_test[:, i:i+patch_size, j:j+patch_size].flatten()\n",
    "                    patches_norm = [img[:, i:i+patch_size, j:j+patch_size].flatten() for img in dataset_rgb[:10]]\n",
    "                    dists = [np.linalg.norm(patch_test - p) for p in patches_norm]\n",
    "                    score = np.min(dists)\n",
    "                    anomaly_map_full[i:i+patch_size, j:j+patch_size] = score\n",
    "            min_score = min(min_score, anomaly_map_full.min())\n",
    "            max_score = max(max_score, anomaly_map_full.max())\n",
    "    return min_score, max_score\n",
    "\n",
    "vmin, vmax = get_score_limits()\n",
    "\n",
    "@interact(\n",
    "    patch_size=widgets.IntSlider(min=2, max=10, step=1, value=5, description='patch_size',\n",
    "                                 style=style, layout=slider_layout),\n",
    "    stride=widgets.IntSlider(min=1, max=10, step=1, value=5, description='stride',\n",
    "                             style=style, layout=slider_layout)\n",
    ")\n",
    "def show_anomaly_map(patch_size, stride):\n",
    "    anomaly_map_full = np.zeros((20, 20))\n",
    "    for i in range(0, 20 - patch_size + 1, stride):\n",
    "        for j in range(0, 20 - patch_size + 1, stride):\n",
    "            patch_test = img_test[:, i:i+patch_size, j:j+patch_size].flatten()\n",
    "            patches_norm = [img[:, i:i+patch_size, j:j+patch_size].flatten() for img in dataset_rgb[:10]]\n",
    "            dists = [np.linalg.norm(patch_test - p) for p in patches_norm]\n",
    "            score = np.min(dists)\n",
    "            anomaly_map_full[i:i+patch_size, j:j+patch_size] = score\n",
    "    fig, ax = plt.subplots(1, 2, figsize=(8, 4))\n",
    "    ax[0].imshow(np.transpose(img_test, (1,2,0)), cmap='gray', vmin=0, vmax=1)\n",
    "    ax[0].set_title('Immagine di test', pad=10, color='lightgray')\n",
    "    ax[0].axis('off')\n",
    "    im = ax[1].imshow(anomaly_map_full, cmap='Blues', vmin=vmin, vmax=vmax)\n",
    "    ax[1].set_title(f'Anomaly Map\\n(patch={patch_size}, stride={stride})', pad=10, color='lightgray')\n",
    "    ax[1].axis('off')\n",
    "    plt.colorbar(im, ax=ax[1], fraction=0.046, pad=0.04)\n",
    "    fig.patch.set_facecolor('#222')\n",
    "    plt.tight_layout()\n",
    "    plt.show()\n",
    "\n",
    "# Applica tema scuro ai widget (slider e testo)\n",
    "widgets.interact_manual.opts['manual_name'] = 'Aggiorna'\n",
    "from IPython.display import HTML\n",
    "HTML(\"\"\"\n",
    "<style>\n",
    ".jp-OutputArea, .output_wrapper, .output {\n",
    "    background: #222 !important;\n",
    "    color: #ccc !important;\n",
    "}\n",
    ".widget-label, .widget-readout, .widget-inline-hbox label {\n",
    "    color: #aaa !important;\n",
    "}\n",
    ".widget-slider .slider-label {\n",
    "    color: #aaa !important;\n",
    "}\n",
    ".widget-slider .slider {\n",
    "    background: #333 !important;\n",
    "}\n",
    "</style>\n",
    "\"\"\")"
   ]
  },
  {
   "cell_type": "code",
   "execution_count": 14,
   "id": "b59c6bb9",
   "metadata": {},
   "outputs": [
    {
     "name": "stdout",
     "output_type": "stream",
     "text": [
      "zsh:1: /Users/qwerty/coding/test_notebook/.venv_prova/bin/pip: bad interpreter: /Users/qwerty/coding/test_notebook/.venv/bin/python3.13: no such file or directory\n"
     ]
    },
    {
     "data": {
      "text/html": [
       "\n",
       "<style>\n",
       ".widget-label {\n",
       "    color: #e0e0e0 !important;\n",
       "    font-weight: bold !important;\n",
       "}\n",
       ".widget-readout {\n",
       "    color: #00d4ff !important;\n",
       "    font-weight: bold !important;\n",
       "}\n",
       ".jupyter-widgets {\n",
       "    background-color: #1e1e1e !important;\n",
       "}\n",
       "</style>\n"
      ],
      "text/plain": [
       "<IPython.core.display.HTML object>"
      ]
     },
     "metadata": {},
     "output_type": "display_data"
    },
    {
     "name": "stdout",
     "output_type": "stream",
     "text": [
      "🚀 Dashboard PatchCore Interattiva - Tema Scuro\n",
      "🎛️ Usa gli slider qui sotto per esplorare i parametri:\n"
     ]
    },
    {
     "data": {
      "application/vnd.jupyter.widget-view+json": {
       "model_id": "eba8f48989ca4fe293e29560112501fc",
       "version_major": 2,
       "version_minor": 0
      },
      "text/plain": [
       "interactive(children=(IntSlider(value=5, description='Patch Size:', layout=Layout(width='400px'), max=10, min=…"
      ]
     },
     "metadata": {},
     "output_type": "display_data"
    }
   ],
   "source": [
    "# Dashboard Professionale per PatchCore con Plotly - Versione Semplificata per Jupyter\n",
    "!pip install plotly kaleido --quiet\n",
    "\n",
    "import plotly.graph_objects as go\n",
    "import plotly.express as px\n",
    "from plotly.subplots import make_subplots\n",
    "import ipywidgets as widgets\n",
    "from ipywidgets import interact, interactive, fixed, interact_manual\n",
    "from IPython.display import display, HTML\n",
    "import time\n",
    "\n",
    "# Configurazione tema scuro per Plotly\n",
    "plotly_dark_template = 'plotly_dark'\n",
    "\n",
    "# Calcola limiti globali per consistency\n",
    "def get_global_limits():\n",
    "    min_score, max_score = float('inf'), float('-inf')\n",
    "    for ps in range(2, 11):\n",
    "        for st in range(1, 11):\n",
    "            anomaly_map = np.zeros((20, 20))\n",
    "            for i in range(0, 20 - ps + 1, st):\n",
    "                for j in range(0, 20 - ps + 1, st):\n",
    "                    patch_test = img_test[:, i:i+ps, j:j+ps].flatten()\n",
    "                    patches_norm = [img[:, i:i+ps, j:j+ps].flatten() for img in dataset_rgb[:10]]\n",
    "                    dists = [np.linalg.norm(patch_test - p) for p in patches_norm]\n",
    "                    score = np.min(dists)\n",
    "                    anomaly_map[i:i+ps, j:j+ps] = score\n",
    "            min_score = min(min_score, anomaly_map.min())\n",
    "            max_score = max(max_score, anomaly_map.max())\n",
    "    return min_score, max_score\n",
    "\n",
    "global_min, global_max = get_global_limits()\n",
    "\n",
    "# Funzione per creare dashboard interattiva\n",
    "def create_interactive_dashboard(patch_size=5, stride=5):\n",
    "    # Calcola anomaly map\n",
    "    anomaly_map_full = np.zeros((20, 20))\n",
    "    scores_list = []\n",
    "    patches_analyzed = 0\n",
    "    \n",
    "    for i in range(0, 20 - patch_size + 1, stride):\n",
    "        for j in range(0, 20 - patch_size + 1, stride):\n",
    "            patch_test = img_test[:, i:i+patch_size, j:j+patch_size].flatten()\n",
    "            patches_norm = [img[:, i:i+patch_size, j:j+patch_size].flatten() for img in dataset_rgb[:10]]\n",
    "            dists = [np.linalg.norm(patch_test - p) for p in patches_norm]\n",
    "            score = np.min(dists)\n",
    "            anomaly_map_full[i:i+patch_size, j:j+patch_size] = score\n",
    "            scores_list.append(score)\n",
    "            patches_analyzed += 1\n",
    "    \n",
    "    # Crea subplot con layout personalizzato\n",
    "    fig = make_subplots(\n",
    "        rows=2, cols=3,\n",
    "        subplot_titles=('🖼️ Immagine Originale', '🔥 Anomaly Heatmap', '📊 Metriche'),\n",
    "        specs=[[{'type': 'heatmap'}, {'type': 'heatmap'}, {'type': 'indicator'}],\n",
    "               [{'colspan': 3, 'type': 'histogram'}, None, None]],\n",
    "        vertical_spacing=0.15,\n",
    "        horizontal_spacing=0.1\n",
    "    )\n",
    "    \n",
    "    # Immagine originale\n",
    "    fig.add_trace(go.Heatmap(\n",
    "        z=np.transpose(img_test[0], (1, 0)),\n",
    "        colorscale='gray',\n",
    "        showscale=False,\n",
    "        hovertemplate='x: %{x}<br>y: %{y}<br>Valore: %{z:.3f}<extra></extra>'\n",
    "    ), row=1, col=1)\n",
    "    \n",
    "    # Heatmap anomalie\n",
    "    fig.add_trace(go.Heatmap(\n",
    "        z=anomaly_map_full,\n",
    "        colorscale='Blues',\n",
    "        zmin=global_min,\n",
    "        zmax=global_max,\n",
    "        colorbar=dict(title=\"Anomaly Score\", x=0.65, len=0.4),\n",
    "        hovertemplate='x: %{x}<br>y: %{y}<br>Score: %{z:.4f}<extra></extra>'\n",
    "    ), row=1, col=2)\n",
    "    \n",
    "    # Metriche\n",
    "    global_score = np.mean(scores_list)\n",
    "    fig.add_trace(go.Indicator(\n",
    "        mode=\"gauge+number+delta\",\n",
    "        value=global_score,\n",
    "        domain={'x': [0, 1], 'y': [0, 1]},\n",
    "        title={'text': \"Score Globale\"},\n",
    "        gauge={\n",
    "            'axis': {'range': [None, global_max]},\n",
    "            'bar': {'color': \"orange\"},\n",
    "            'steps': [\n",
    "                {'range': [0, global_max*0.3], 'color': \"lightgray\"},\n",
    "                {'range': [global_max*0.3, global_max*0.7], 'color': \"gray\"}],\n",
    "            'threshold': {\n",
    "                'line': {'color': \"red\", 'width': 4},\n",
    "                'thickness': 0.75,\n",
    "                'value': global_max*0.8}}\n",
    "    ), row=1, col=3)\n",
    "    \n",
    "    # Distribuzione scores\n",
    "    fig.add_trace(go.Histogram(\n",
    "        x=scores_list,\n",
    "        nbinsx=20,\n",
    "        marker_color='#636EFA',\n",
    "        opacity=0.8,\n",
    "        name='Distribuzione Scores'\n",
    "    ), row=2, col=1)\n",
    "    \n",
    "    # Layout generale\n",
    "    fig.update_layout(\n",
    "        template=plotly_dark_template,\n",
    "        title=dict(\n",
    "            text=f\"🔬 PatchCore Dashboard - Patch={patch_size}x{patch_size}, Stride={stride}<br>\"\n",
    "                 f\"📊 Patches: {patches_analyzed} | Score: {global_score:.4f}\",\n",
    "            x=0.5,\n",
    "            font=dict(size=16, color='#00d4ff')\n",
    "        ),\n",
    "        height=800,\n",
    "        showlegend=False,\n",
    "        margin=dict(t=120, b=40, l=40, r=40)\n",
    "    )\n",
    "    \n",
    "    # Rimuovi tick labels per le heatmap\n",
    "    fig.update_xaxes(showticklabels=False, row=1, col=1)\n",
    "    fig.update_yaxes(showticklabels=False, row=1, col=1)\n",
    "    fig.update_xaxes(showticklabels=False, row=1, col=2)\n",
    "    fig.update_yaxes(showticklabels=False, row=1, col=2)\n",
    "    \n",
    "    # Labels per l'istogramma\n",
    "    fig.update_xaxes(title_text=\"Anomaly Score\", row=2, col=1)\n",
    "    fig.update_yaxes(title_text=\"Frequenza\", row=2, col=1)\n",
    "    \n",
    "    fig.show()\n",
    "    \n",
    "    # Info aggiuntive\n",
    "    overlap_percentage = max(0, (patch_size - stride) / patch_size * 100) if stride < patch_size else 0\n",
    "    print(f\"ℹ️  Sovrapposizione patches: {overlap_percentage:.1f}%\")\n",
    "    print(f\"🎯 Copertura totale: {patches_analyzed} patches analizzate\")\n",
    "    print(f\"📈 Range scores: {min(scores_list):.4f} - {max(scores_list):.4f}\")\n",
    "\n",
    "# Widget interattivi con stile moderno\n",
    "style = {'description_width': '120px'}\n",
    "patch_slider = widgets.IntSlider(\n",
    "    value=5, min=2, max=10, step=1,\n",
    "    description='Patch Size:',\n",
    "    style=style,\n",
    "    layout=widgets.Layout(width='400px')\n",
    ")\n",
    "stride_slider = widgets.IntSlider(\n",
    "    value=5, min=1, max=10, step=1,\n",
    "    description='Stride:',\n",
    "    style=style,\n",
    "    layout=widgets.Layout(width='400px')\n",
    ")\n",
    "\n",
    "# CSS personalizzato per tema scuro\n",
    "display(HTML(\"\"\"\n",
    "<style>\n",
    ".widget-label {\n",
    "    color: #e0e0e0 !important;\n",
    "    font-weight: bold !important;\n",
    "}\n",
    ".widget-readout {\n",
    "    color: #00d4ff !important;\n",
    "    font-weight: bold !important;\n",
    "}\n",
    ".jupyter-widgets {\n",
    "    background-color: #1e1e1e !important;\n",
    "}\n",
    "</style>\n",
    "\"\"\"))\n",
    "\n",
    "# Avvia la dashboard interattiva\n",
    "print(\"🚀 Dashboard PatchCore Interattiva - Tema Scuro\")\n",
    "print(\"🎛️ Usa gli slider qui sotto per esplorare i parametri:\")\n",
    "\n",
    "# Widget interattivo\n",
    "interactive_plot = interactive(\n",
    "    create_interactive_dashboard,\n",
    "    patch_size=patch_slider,\n",
    "    stride=stride_slider\n",
    ")\n",
    "\n",
    "display(interactive_plot)"
   ]
  },
  {
   "cell_type": "markdown",
   "id": "b24a9eae",
   "metadata": {},
   "source": [
    "## 🌐 Dashboard Standalone \n",
    "\n",
    "La dashboard Dash interattiva è stata estratta in un file standalone per facilità d'uso:\n",
    "\n",
    "**📄 File:** `patchcore_dashboard.py`\n",
    "\n",
    "### Come usare la dashboard standalone:\n",
    "\n",
    "1. **Installare le dipendenze:**\n",
    "   ```bash\n",
    "   pip install dash plotly numpy\n",
    "   ```\n",
    "\n",
    "2. **Avviare la dashboard:**\n",
    "   ```bash\n",
    "   python patchcore_dashboard.py\n",
    "   ```\n",
    "\n",
    "3. **Aprire nel browser:** \n",
    "   - http://localhost:8050\n",
    "\n",
    "### 🎯 Caratteristiche:\n",
    "- ✅ **Standalone**: Non richiede Jupyter\n",
    "- ✅ **Portabile**: Può essere distribuito facilmente  \n",
    "- ✅ **Interattiva**: Slider per patch_size e stride\n",
    "- ✅ **Real-time**: Aggiornamenti istantanei\n",
    "- ✅ **Tema scuro**: Interface professionale\n",
    "- ✅ **Multi-grafico**: Heatmap, istogrammi, statistiche\n",
    "\n",
    "La dashboard standalone include gli stessi dati di esempio e tutte le funzionalità viste nel notebook!"
   ]
  }
 ],
 "metadata": {
  "kernelspec": {
   "display_name": ".venv_prova (3.13.5)",
   "language": "python",
   "name": "python3"
  },
  "language_info": {
   "codemirror_mode": {
    "name": "ipython",
    "version": 3
   },
   "file_extension": ".py",
   "mimetype": "text/x-python",
   "name": "python",
   "nbconvert_exporter": "python",
   "pygments_lexer": "ipython3",
   "version": "3.13.5"
  }
 },
 "nbformat": 4,
 "nbformat_minor": 5
}
