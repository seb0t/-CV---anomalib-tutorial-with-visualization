{
 "cells": [
  {
   "cell_type": "markdown",
   "id": "d388db74",
   "metadata": {},
   "source": [
    "# FAISS Vector Retrieval Example\n",
    "\n",
    "In this notebook, we will demonstrate how to use FAISS to load 10 vectors and perform a nearest neighbor search."
   ]
  },
  {
   "cell_type": "code",
   "execution_count": 1,
   "id": "18fe7f97",
   "metadata": {},
   "outputs": [],
   "source": [
    "# Import necessary libraries\n",
    "import numpy as np\n",
    "import faiss"
   ]
  },
  {
   "cell_type": "code",
   "execution_count": 2,
   "id": "be5f862b",
   "metadata": {},
   "outputs": [
    {
     "name": "stdout",
     "output_type": "stream",
     "text": [
      "Generated vectors:\n",
      "[[0.50288385 0.51864064 0.5485412  ... 0.8836286  0.7422972  0.1313188 ]\n",
      " [0.78990406 0.10816219 0.15899388 ... 0.883774   0.10300164 0.5819386 ]\n",
      " [0.13159418 0.5759136  0.70206314 ... 0.32314888 0.5041634  0.46005592]\n",
      " ...\n",
      " [0.52426094 0.55352765 0.00466931 ... 0.92873037 0.16490874 0.37204826]\n",
      " [0.9968076  0.7479123  0.17953645 ... 0.104969   0.25944975 0.98043114]\n",
      " [0.9331861  0.755035   0.71320295 ... 0.5145971  0.83130616 0.2699537 ]]\n"
     ]
    }
   ],
   "source": [
    "# Generate 10 random vectors of dimension 128\n",
    "dim = 128  # Dimension of each vector\n",
    "num_vectors = 10  # Number of vectors\n",
    "vectors = np.random.random((num_vectors, dim)).astype('float32')\n",
    "\n",
    "print(\"Generated vectors:\")\n",
    "print(vectors)"
   ]
  },
  {
   "cell_type": "code",
   "execution_count": 3,
   "id": "cf6cd6b0",
   "metadata": {},
   "outputs": [
    {
     "name": "stdout",
     "output_type": "stream",
     "text": [
      "Number of vectors in the index: 10\n"
     ]
    }
   ],
   "source": [
    "# Create a FAISS index\n",
    "index = faiss.IndexFlatL2(dim)  # L2 distance index\n",
    "\n",
    "# Add vectors to the index\n",
    "index.add(vectors)\n",
    "print(f\"Number of vectors in the index: {index.ntotal}\")"
   ]
  },
  {
   "cell_type": "code",
   "execution_count": 4,
   "id": "30ac1ee1",
   "metadata": {},
   "outputs": [
    {
     "name": "stdout",
     "output_type": "stream",
     "text": [
      "Query vector:\n",
      "[[5.9157187e-01 8.9375830e-01 7.8404099e-01 1.0267660e-01 1.6475289e-01\n",
      "  1.5841693e-01 8.9872479e-01 5.2519149e-01 9.1015190e-01 8.3807790e-01\n",
      "  2.7130330e-01 7.5783253e-01 4.5194450e-01 5.6189779e-02 3.8061026e-02\n",
      "  1.6615617e-01 7.3562485e-01 3.5293806e-01 4.2982388e-01 5.5968213e-01\n",
      "  7.5942165e-01 4.5872188e-01 9.7210455e-01 2.2685187e-01 4.3720710e-01\n",
      "  9.2679393e-01 4.8297131e-01 6.3242722e-01 8.6535400e-01 2.4239214e-01\n",
      "  7.7143896e-01 3.0678076e-01 6.6439152e-01 3.4160006e-01 4.3696329e-01\n",
      "  9.7890973e-01 4.7633460e-01 1.6550995e-01 5.6283820e-01 8.4839213e-01\n",
      "  4.2336878e-01 1.3340880e-01 1.5632407e-01 3.7515387e-01 9.5890290e-01\n",
      "  6.6446178e-03 3.8354132e-01 8.0941719e-01 8.9058876e-01 1.1791518e-01\n",
      "  2.6621512e-01 1.3243467e-01 4.0999413e-01 9.8644122e-03 9.7433984e-01\n",
      "  3.7738907e-01 1.3563685e-01 1.7211553e-01 3.7324494e-01 6.4333403e-01\n",
      "  6.4021456e-01 7.5230002e-01 7.0033181e-01 7.0106244e-01 6.2505364e-01\n",
      "  3.8534734e-01 4.6675935e-01 1.4298221e-01 6.5114576e-01 4.1633767e-01\n",
      "  3.0973235e-01 2.8431869e-01 2.8157812e-01 8.8087879e-02 3.9077863e-01\n",
      "  3.0009860e-01 4.9697509e-01 5.2113205e-01 9.2039168e-01 1.7411597e-01\n",
      "  2.1636316e-01 2.2325270e-01 3.1226687e-02 2.6564896e-01 4.5230904e-01\n",
      "  1.6358151e-01 8.6851931e-01 2.3543069e-01 1.0408348e-01 5.5174178e-01\n",
      "  2.8971547e-01 7.5873643e-01 3.9179611e-01 1.2995693e-01 9.9613005e-01\n",
      "  4.7143972e-01 5.3811473e-01 8.7603939e-01 8.3135009e-01 6.8060321e-01\n",
      "  7.7392471e-01 5.2379757e-01 7.5049019e-01 4.8450330e-01 2.2795107e-03\n",
      "  6.7874290e-02 2.0405976e-01 1.6968215e-02 4.8124176e-01 4.3625546e-01\n",
      "  6.2176984e-02 4.9897674e-01 3.5902885e-01 3.1193671e-01 9.7967261e-01\n",
      "  1.0065694e-03 8.0891335e-01 7.5850743e-01 6.7787278e-01 1.9311096e-01\n",
      "  9.0077245e-01 1.2301120e-04 1.4366205e-01 5.6060088e-01 3.3770293e-01\n",
      "  7.9853261e-01 7.5607592e-01 3.3929971e-01]]\n",
      "Indices of nearest neighbors: [[2 7 0]]\n",
      "Distances to nearest neighbors: [[20.306406 21.054813 21.180494]]\n"
     ]
    }
   ],
   "source": [
    "# Perform a nearest neighbor search\n",
    "query_vector = np.random.random((1, dim)).astype('float32')  # Generate a random query vector\n",
    "k = 3  # Number of nearest neighbors to retrieve\n",
    "\n",
    "print(\"Query vector:\")\n",
    "print(query_vector)\n",
    "\n",
    "D, I = index.search(query_vector, k)  # D: distances, I: indices\n",
    "\n",
    "print(\"Indices of nearest neighbors:\", I)\n",
    "print(\"Distances to nearest neighbors:\", D)"
   ]
  },
  {
   "cell_type": "code",
   "execution_count": null,
   "id": "8a2b451d",
   "metadata": {},
   "outputs": [],
   "source": []
  }
 ],
 "metadata": {
  "kernelspec": {
   "display_name": "faiss_project_env (3.13.5)",
   "language": "python",
   "name": "python3"
  },
  "language_info": {
   "codemirror_mode": {
    "name": "ipython",
    "version": 3
   },
   "file_extension": ".py",
   "mimetype": "text/x-python",
   "name": "python",
   "nbconvert_exporter": "python",
   "pygments_lexer": "ipython3",
   "version": "3.13.5"
  }
 },
 "nbformat": 4,
 "nbformat_minor": 5
}
